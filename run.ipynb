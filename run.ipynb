{
 "cells": [
  {
   "cell_type": "code",
   "execution_count": null,
   "metadata": {},
   "outputs": [],
   "source": [
    "#Here we are trying to cheat on model, By assking it predict base on info we are hiding from it!\n",
    "\n",
    "#let's call our data ( Assume its name is data.csv ) and create a copy of some of its rows!\n",
    "\n",
    "import pandas as pd\n",
    "\n",
    "df = pd.read_csv('input/train/data.csv')\n",
    "\n",
    "df.shape"
   ]
  },
  {
   "cell_type": "code",
   "execution_count": null,
   "metadata": {},
   "outputs": [],
   "source": [
    "df_pred = df.iloc[3600:,:]\n",
    "df = df.iloc[:3600,:]\n",
    "df_pred.shape, df.shape"
   ]
  },
  {
   "cell_type": "code",
   "execution_count": null,
   "metadata": {},
   "outputs": [],
   "source": [
    "df.to_csv('input/train/data-rowcut.csv', index=False)\n",
    "df_pred.to_csv('input/test/data-pred.csv', index=False)\n",
    "print(\"Now We Have Two Data set Which one of them Is not being seen by Model During trian and test\")"
   ]
  },
  {
   "cell_type": "code",
   "execution_count": null,
   "metadata": {},
   "outputs": [],
   "source": [
    "# First let us assume that you are used the enhanced version which saved args to a pickle file:\n",
    "# We are loading the args same to when trained the model:\n",
    "# It tipically save it in input folder:\n",
    "import pickle\n",
    "\n",
    "with open('input/args.pkl', 'rb') as f:\n",
    "    loaded_arg = pickle.load(f)\n",
    "\n",
    "print(\"Args object loaded from args.pkl\")\n",
    "print(loaded_arg)"
   ]
  },
  {
   "cell_type": "code",
   "execution_count": null,
   "metadata": {},
   "outputs": [],
   "source": [
    "#Just a few changes!\n",
    "loaded_arg.test_size = None\n",
    "loaded_arg.max_use_of_row = 'All Except 3 Days'\n",
    "loaded_arg.pred_data_path = 'data-pred.csv'\n",
    "loaded_arg.is_training = 0\n",
    "print(loaded_arg)"
   ]
  },
  {
   "cell_type": "code",
   "execution_count": null,
   "metadata": {},
   "outputs": [],
   "source": [
    "# We should use Model class :\n",
    "# let us import same as when we trained model:\n",
    "from utils.tools import dotdict\n",
    "import torch\n",
    "from experiments.exp_long_term_forecasting import Exp_Long_Term_Forecast\n",
    "from experiments.exp_long_term_forecasting_partial import Exp_Long_Term_Forecast_Partial\n",
    "import random\n",
    "import numpy as np\n",
    "\n",
    "if loaded_arg.exp_name == 'partial_train':\n",
    "    Exp = Exp_Long_Term_Forecast_Partial\n",
    "else:\n",
    "    Exp = Exp_Long_Term_Forecast"
   ]
  },
  {
   "cell_type": "code",
   "execution_count": null,
   "metadata": {},
   "outputs": [],
   "source": [
    "exp = Exp(loaded_arg)"
   ]
  },
  {
   "cell_type": "code",
   "execution_count": null,
   "metadata": {},
   "outputs": [],
   "source": [
    "#setting is same as the name of the folder that is saved our model:\n",
    "setting = 'test_iTransformer_custom_MS_ft15_sl1_ll3_pl2_dm1_nh1_el1_dl2_df1_fctimeF_ebTrue_dttest_projection_0'"
   ]
  },
  {
   "cell_type": "code",
   "execution_count": null,
   "metadata": {},
   "outputs": [],
   "source": [
    "exp.predict(setting, load=True)"
   ]
  },
  {
   "cell_type": "code",
   "execution_count": null,
   "metadata": {},
   "outputs": [],
   "source": [
    "import os\n",
    "predicted_path = os.path.join('results', setting, 'Preds real_prediction.npy')\n",
    "predicted_values = np.load(predicted_path)\n",
    "predicted_close = predicted_values[0,:,-1].reshape(-1,1)\n",
    "predicted_close"
   ]
  },
  {
   "cell_type": "code",
   "execution_count": null,
   "metadata": {},
   "outputs": [],
   "source": [
    "#This is the last 3 days of the pred dataset :\n",
    "import pandas as pd\n",
    "df = pd.read_csv('input/test/data-pred.csv')\n",
    "df['Close'].tail(4)"
   ]
  },
  {
   "cell_type": "code",
   "execution_count": null,
   "metadata": {},
   "outputs": [],
   "source": [
    "import joblib\n",
    "scaler = joblib.load('input/test/scaler.pkl')\n",
    "iversed_close = scaler.inverse_transform(predicted_close)\n",
    "[round(any_) for any_ in iversed_close.reshape(-1).tolist()]"
   ]
  },
  {
   "cell_type": "code",
   "execution_count": null,
   "metadata": {},
   "outputs": [],
   "source": [
    "# مدل در هنگام پیش بینی ۱ ردیف آخر را فقط دریافت می کند\n",
    "# از آنجا که ما با آرگومان مکس ردیف یوز ، برای او مشخص کردیم که ۳ تای آخر را دست نزند\n",
    "# پس چهارمین مانده به آخر را گرفته است\n",
    "#برای اینکه از اسکیل مطمئن باشیم آن را بر میگردانیم تا یکسان باشند\n",
    "\n",
    "scaler.inverse_transform(exp.batch_y[0,:,-1].reshape(-1,1))"
   ]
  },
  {
   "cell_type": "code",
   "execution_count": null,
   "metadata": {},
   "outputs": [],
   "source": [
    "# OR OR ##"
   ]
  },
  {
   "cell_type": "code",
   "execution_count": null,
   "metadata": {},
   "outputs": [],
   "source": [
    "# OR IF YOU HAVE NOT YOUR ARGS ! HERE LETS TRAIN FROM SCRATCH ! #"
   ]
  },
  {
   "cell_type": "code",
   "execution_count": null,
   "metadata": {},
   "outputs": [],
   "source": []
  },
  {
   "cell_type": "code",
   "execution_count": null,
   "metadata": {},
   "outputs": [],
   "source": [
    "# Define the arg object\n",
    "arg = dotdict()\n",
    "\n",
    "arg.root_path = 'input/train'\n",
    "arg.data_path = 'data-rowcut.csv'\n",
    "arg.pred_root_path = 'input/test'\n",
    "arg.pred_data_path = 'data-pred.csv'"
   ]
  },
  {
   "cell_type": "code",
   "execution_count": null,
   "metadata": {},
   "outputs": [],
   "source": [
    "from utils.tools import dotdict\n",
    "import torch\n",
    "from experiments.exp_long_term_forecasting import Exp_Long_Term_Forecast\n",
    "from experiments.exp_long_term_forecasting_partial import Exp_Long_Term_Forecast_Partial\n",
    "import random\n",
    "import numpy as np\n",
    "\n",
    "# Setting the seed\n",
    "fix_seed = 2023\n",
    "random.seed(fix_seed)\n",
    "torch.manual_seed(fix_seed)\n",
    "np.random.seed(fix_seed)\n",
    "\n",
    "\n",
    "# NEW OPTIONS : #\n",
    "arg.scale = True\n",
    "arg.test_size = 0.2\n",
    "arg.kind_of_scaler = 'Standard'\n",
    "arg.name_of_col_with_date = 'date'\n",
    "arg.kind_of_optim = 'default'\n",
    "arg.criter = 'default'\n",
    "arg.do_visual = False\n",
    "arg.max_use_of_row = 'All Except 3 Days'#It also can be 'All Except a Week' or 'No Lim'\n",
    "#        #      #\n",
    "\n",
    "arg.is_training = 1\n",
    "arg.model_id = 'test'\n",
    "arg.model = 'iTransformer'\n",
    "arg.data = 'custom'\n",
    "arg.features = 'MS'\n",
    "arg.target = 'Close'\n",
    "arg.freq = 'b'\n",
    "arg.checkpoints = './checkpoints/'\n",
    "arg.seq_len = 1*5*3\n",
    "arg.label_len = 1*1\n",
    "arg.pred_len = 1*3\n",
    "arg.enc_in = 6\n",
    "arg.dec_in = 6\n",
    "arg.c_out = 1\n",
    "arg.d_model = 2\n",
    "arg.n_heads = 1\n",
    "arg.e_layers = 1\n",
    "arg.d_layers = 1\n",
    "arg.d_ff = 2\n",
    "arg.moving_avg = 25\n",
    "arg.factor = 1\n",
    "arg.distil = True\n",
    "arg.dropout = 0.01\n",
    "arg.embed = 'timeF'\n",
    "arg.activation = 'ReLU'\n",
    "arg.num_workers = 1\n",
    "arg.itr = 1\n",
    "arg.train_epochs = 3\n",
    "arg.batch_size = 64\n",
    "arg.patience = 10\n",
    "arg.learning_rate = 0.9\n",
    "arg.des = 'test'\n",
    "arg.loss = 'MSE'\n",
    "arg.lradj = 'type1'\n",
    "arg.use_amp = False\n",
    "arg.use_gpu = True if torch.cuda.is_available() else False\n",
    "arg.gpu = 0\n",
    "arg.use_multi_gpu = False\n",
    "arg.devices = '0,1,2,3'\n",
    "arg.exp_name = 'MTSF'\n",
    "arg.channel_independence = False\n",
    "arg.inverse = False\n",
    "arg.class_strategy = 'projection'\n",
    "arg.efficient_training = False\n",
    "arg.use_norm = True\n",
    "arg.partial_start_index = 0\n",
    "\n",
    "print('Args in experiment:')\n",
    "print(arg)\n",
    "\n",
    "if arg.exp_name == 'partial_train':\n",
    "    Exp = Exp_Long_Term_Forecast_Partial\n",
    "else:\n",
    "    Exp = Exp_Long_Term_Forecast\n"
   ]
  },
  {
   "cell_type": "code",
   "execution_count": null,
   "metadata": {},
   "outputs": [],
   "source": [
    "if arg.is_training:\n",
    "    for ii in range(arg.itr):\n",
    "        # setting record of experiments\n",
    "        setting = '{}_{}_{}_{}_ft{}_sl{}_ll{}_pl{}_dm{}_nh{}_el{}_dl{}_df{}_fc{}_eb{}_dt{}_{}_{}'.format(\n",
    "                arg.model_id,\n",
    "                arg.model,\n",
    "                arg.data,\n",
    "                arg.features,\n",
    "                arg.seq_len,\n",
    "                arg.label_len,\n",
    "                arg.pred_len,\n",
    "                arg.d_model,\n",
    "                arg.n_heads,\n",
    "                arg.e_layers,\n",
    "                arg.d_layers,\n",
    "                arg.d_ff,\n",
    "                arg.factor,\n",
    "                arg.embed,\n",
    "                arg.distil,\n",
    "                arg.des,\n",
    "                arg.class_strategy, ii)\n",
    "        \n",
    "        exp = Exp(arg)  # set experiments\n",
    "        print('>>>>>>>start training : {}>>>>>>>>>>>>>>>>>>>>>>>>>>'.format(setting))\n",
    "        exp.train(setting)\n",
    "        \n",
    "        print('>>>>>>>testing : {}<<<<<<<<<<<<<<<<<<<<<<<<<<<<<<<<<'.format(setting))\n",
    "        \n",
    "        train_losses = exp.train_losses##### --->>> Use These To Plot the Loss Values\n",
    "        test_losses = exp.test_losses####   --->>> Use These To Plot the Loss Values\n",
    "        \n",
    "        exp.test(setting)\n",
    "        \n",
    "        if arg.do_predict:\n",
    "            print('>>>>>>>predicting : {}<<<<<<<<<<<<<<<<<<<<<<<<<<<<<<<<<'.format(setting))\n",
    "            exp.predict(setting, True)\n",
    "        \n",
    "        torch.cuda.empty_cache()\n",
    "else:\n",
    "    ii = 0\n",
    "    setting = '{}_{}_{}_{}_ft{}_sl{}_ll{}_pl{}_dm{}_nh{}_el{}_dl{}_df{}_fc{}_eb{}_dt{}_{}_{}'.format(\n",
    "            arg.model_id,\n",
    "            arg.model,\n",
    "            arg.data,\n",
    "            arg.features,\n",
    "            arg.seq_len,\n",
    "            arg.label_len,\n",
    "            arg.pred_len,\n",
    "            arg.d_model,\n",
    "            arg.n_heads,\n",
    "            arg.e_layers,\n",
    "            arg.d_layers,\n",
    "            arg.d_ff,\n",
    "            arg.factor,\n",
    "            arg.embed,\n",
    "            arg.distil,\n",
    "            arg.des,\n",
    "            arg.class_strategy, ii)\n",
    "        \n",
    "    exp = Exp(arg)  # set experiments\n",
    "    print('>>>>>>>testing : {}<<<<<<<<<<<<<<<<<<<<<<<<<<<<<<<<<'.format(setting))\n",
    "    exp.test(setting, test=1)\n",
    "    torch.cuda.empty_cache()"
   ]
  },
  {
   "cell_type": "code",
   "execution_count": null,
   "metadata": {},
   "outputs": [],
   "source": []
  },
  {
   "cell_type": "code",
   "execution_count": null,
   "metadata": {},
   "outputs": [],
   "source": [
    "# مستقیم بریم برای پیشبینی چون همه چیز در روند ترین مشخص شده\n",
    "\n",
    "exp.predict(setting,True)"
   ]
  },
  {
   "cell_type": "code",
   "execution_count": null,
   "metadata": {},
   "outputs": [],
   "source": [
    "import os\n",
    "predicted_path = os.path.join('results', setting, 'Preds real_prediction.npy')"
   ]
  },
  {
   "cell_type": "code",
   "execution_count": null,
   "metadata": {},
   "outputs": [],
   "source": [
    "import os\n",
    "predicted_path = os.path.join('results', setting, 'Preds real_prediction.npy')\n",
    "predicted_values = np.load(predicted_path)\n",
    "predicted_close = predicted_values[0,:,-1].reshape(-1,1)\n",
    "predicted_close\n",
    "#This is the last 3 days of the pred dataset :\n",
    "import pandas as pd\n",
    "df = pd.read_csv('input/test/data-pred.csv')\n",
    "df['Close'].tail(4)\n",
    "import joblib\n",
    "scaler = joblib.load('input/test/scaler.pkl')\n",
    "iversed_close = scaler.inverse_transform(predicted_close)\n",
    "[round(any_) for any_ in iversed_close.reshape(-1).tolist()]\n",
    "# مدل در هنگام پیش بینی ۱ ردیف آخر را فقط دریافت می کند\n",
    "# از آنجا که ما با آرگومان مکس ردیف یوز ، برای او مشخص کردیم که ۳ تای آخر را دست نزند\n",
    "# پس چهارمین مانده به آخر را گرفته است\n",
    "#برای اینکه از اسکیل مطمئن باشیم آن را بر میگردانیم تا یکسان باشند\n",
    "\n",
    "scaler.inverse_transform(exp.batch_y[0,:,-1].reshape(-1,1))"
   ]
  }
 ],
 "metadata": {
  "kernelspec": {
   "display_name": "Python 3",
   "language": "python",
   "name": "python3"
  },
  "language_info": {
   "codemirror_mode": {
    "name": "ipython",
    "version": 3
   },
   "file_extension": ".py",
   "mimetype": "text/x-python",
   "name": "python",
   "nbconvert_exporter": "python",
   "pygments_lexer": "ipython3",
   "version": "3.11.8"
  }
 },
 "nbformat": 4,
 "nbformat_minor": 2
}
